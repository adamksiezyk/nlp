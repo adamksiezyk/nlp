{
 "cells": [
  {
   "cell_type": "markdown",
   "metadata": {},
   "source": [
    "# Multiword expressions identification and extraction"
   ]
  },
  {
   "cell_type": "code",
   "execution_count": 1,
   "metadata": {},
   "outputs": [
    {
     "name": "stderr",
     "output_type": "stream",
     "text": [
      "2022-11-25 10:51:31.349018: I tensorflow/core/platform/cpu_feature_guard.cc:193] This TensorFlow binary is optimized with oneAPI Deep Neural Network Library (oneDNN) to use the following CPU instructions in performance-critical operations:  SSE4.1 SSE4.2 AVX AVX2 FMA\n",
      "To enable them in other operations, rebuild TensorFlow with the appropriate compiler flags.\n"
     ]
    }
   ],
   "source": [
    "import spacy\n",
    "import utils"
   ]
  },
  {
   "cell_type": "markdown",
   "metadata": {},
   "source": [
    "# Use SpaCy tokenizer API to tokenize the text from the law corpus"
   ]
  },
  {
   "cell_type": "code",
   "execution_count": 2,
   "metadata": {},
   "outputs": [],
   "source": [
    "nlp = spacy.load(\"pl_core_news_sm\")\n",
    "tokenizer = nlp.tokenizer"
   ]
  },
  {
   "cell_type": "code",
   "execution_count": 3,
   "metadata": {},
   "outputs": [],
   "source": [
    "documents = utils.read_normalized_documents()\n",
    "text = ' '.join(documents.values())"
   ]
  },
  {
   "cell_type": "code",
   "execution_count": 4,
   "metadata": {},
   "outputs": [],
   "source": [
    "tokens = [t.orth_ for t in tokenizer(text)]"
   ]
  },
  {
   "cell_type": "markdown",
   "metadata": {},
   "source": [
    "# Compute bigram counts of downcased tokens"
   ]
  },
  {
   "cell_type": "code",
   "execution_count": 12,
   "metadata": {},
   "outputs": [],
   "source": [
    "from collections import Counter, namedtuple"
   ]
  },
  {
   "cell_type": "code",
   "execution_count": 6,
   "metadata": {},
   "outputs": [],
   "source": [
    "NGram = namedtuple(\"NGram\", [\"tokens\", \"freq\", \"pmi\"], defaults=(None, None, None))"
   ]
  },
  {
   "cell_type": "code",
   "execution_count": 25,
   "metadata": {},
   "outputs": [],
   "source": [
    "def create_bi_grams(tokens):\n",
    "    return [NGram(*tup) for tup in Counter([ngram for ngram in zip(tokens[:-1], tokens[1:])]).items()]\n",
    "\n",
    "\n",
    "def create_tri_grams(tokens):\n",
    "    return [NGram(*tup) for tup in Counter([ngram for ngram in zip(tokens[:-2], tokens[1:-1], tokens[2:])]).items()]"
   ]
  },
  {
   "cell_type": "code",
   "execution_count": 26,
   "metadata": {},
   "outputs": [],
   "source": [
    "bi_grams = create_bi_grams(tokens)"
   ]
  },
  {
   "cell_type": "markdown",
   "metadata": {},
   "source": [
    "# Discard bigrams containing characters other than letters"
   ]
  },
  {
   "cell_type": "code",
   "execution_count": 27,
   "metadata": {},
   "outputs": [
    {
     "data": {
      "text/plain": [
       "[NGram(tokens=('tekst', 'ustawy'), freq=300, pmi=None),\n",
       " NGram(tokens=('ustawy', 'ustalony'), freq=82, pmi=None),\n",
       " NGram(tokens=('ustalony', 'ostatecznie'), freq=82, pmi=None),\n",
       " NGram(tokens=('ostatecznie', 'po'), freq=82, pmi=None),\n",
       " NGram(tokens=('po', 'rozpatrzeniu'), freq=115, pmi=None)]"
      ]
     },
     "execution_count": 27,
     "metadata": {},
     "output_type": "execute_result"
    }
   ],
   "source": [
    "bi_grams_filt = [bi_gram for bi_gram in bi_grams if all(t.isalpha() for t in bi_gram.tokens)]\n",
    "bi_grams_filt[:5]"
   ]
  },
  {
   "cell_type": "markdown",
   "metadata": {},
   "source": [
    "# Use pointwise mutual information to compute the measure for all pairs of words"
   ]
  },
  {
   "cell_type": "code",
   "execution_count": 31,
   "metadata": {},
   "outputs": [],
   "source": [
    "import math"
   ]
  },
  {
   "cell_type": "code",
   "execution_count": 32,
   "metadata": {},
   "outputs": [],
   "source": [
    "TOKENS_FREQ = {\n",
    "    t: cnt\n",
    "    for t, cnt in Counter(tokens).items()\n",
    "}"
   ]
  },
  {
   "cell_type": "code",
   "execution_count": 33,
   "metadata": {},
   "outputs": [],
   "source": [
    "def calculate_pmi(n_gram, tokens_freq):\n",
    "    tokens, freq, _ = n_gram\n",
    "    word_freqs = [tokens_freq[t] / len(tokens_freq) for t in tokens]\n",
    "    pmi = math.log2((freq / len(tokens_freq)) / math.prod(word_freqs))\n",
    "    return NGram(tokens, freq, pmi)"
   ]
  },
  {
   "cell_type": "code",
   "execution_count": 34,
   "metadata": {},
   "outputs": [
    {
     "data": {
      "text/plain": [
       "[NGram(tokens=('tekst', 'ustawy'), freq=300, pmi=2.1676788753673106),\n",
       " NGram(tokens=('ustawy', 'ustalony'), freq=82, pmi=0.8835689036235815),\n",
       " NGram(tokens=('ustalony', 'ostatecznie'), freq=82, pmi=7.874237434156478),\n",
       " NGram(tokens=('ostatecznie', 'po'), freq=82, pmi=1.923445213338051),\n",
       " NGram(tokens=('po', 'rozpatrzeniu'), freq=115, pmi=1.8404959441549096)]"
      ]
     },
     "execution_count": 34,
     "metadata": {},
     "output_type": "execute_result"
    }
   ],
   "source": [
    "bi_grams_pmi = [calculate_pmi(bi_gram, TOKENS_FREQ) for bi_gram in bi_grams_filt]\n",
    "bi_grams_pmi[:5]"
   ]
  },
  {
   "cell_type": "markdown",
   "metadata": {},
   "source": [
    "# Determine top 10 entries"
   ]
  },
  {
   "cell_type": "code",
   "execution_count": 35,
   "metadata": {},
   "outputs": [
    {
     "data": {
      "text/plain": [
       "[NGram(tokens=('rezerwuaru', 'pierwiastka'), freq=1, pmi=15.977973016322787),\n",
       " NGram(tokens=('wydobywane', 'lokalnie'), freq=1, pmi=15.977973016322787),\n",
       " NGram(tokens=('objaśnieniem', 'figur'), freq=1, pmi=15.977973016322787),\n",
       " NGram(tokens=('wkładzie', 'wnoszonym'), freq=1, pmi=15.977973016322787),\n",
       " NGram(tokens=('doktorem', 'habilitowanym'), freq=1, pmi=15.977973016322787),\n",
       " NGram(tokens=('przedemery', 'talne'), freq=1, pmi=15.977973016322787),\n",
       " NGram(tokens=('organa', 'uchwałodawcze'), freq=1, pmi=15.977973016322787),\n",
       " NGram(tokens=('kropki', 'wstawić'), freq=1, pmi=15.977973016322787),\n",
       " NGram(tokens=('królowa', 'luiza'), freq=1, pmi=15.977973016322787),\n",
       " NGram(tokens=('protoplast', 'mieszańcowy'), freq=1, pmi=15.977973016322787)]"
      ]
     },
     "execution_count": 35,
     "metadata": {},
     "output_type": "execute_result"
    }
   ],
   "source": [
    "bi_grams_sort = sorted(bi_grams_pmi, key=lambda x: x.pmi, reverse=True)\n",
    "bi_grams_sort[:10]"
   ]
  },
  {
   "cell_type": "markdown",
   "metadata": {},
   "source": [
    "# Filter bigrams with number of occurrences lower than 5"
   ]
  },
  {
   "cell_type": "code",
   "execution_count": 36,
   "metadata": {},
   "outputs": [
    {
     "data": {
      "text/plain": [
       "[NGram(tokens=('zaszkodzić', 'wynikom'), freq=5, pmi=13.656044921435424),\n",
       " NGram(tokens=('świeckie', 'przygotowujące'), freq=5, pmi=13.656044921435424),\n",
       " NGram(tokens=('grzegorz', 'schetyna'), freq=5, pmi=13.656044921435424),\n",
       " NGram(tokens=('stajnią', 'wyścigową'), freq=5, pmi=13.656044921435424),\n",
       " NGram(tokens=('teryto', 'rialnego'), freq=5, pmi=13.656044921435424),\n",
       " NGram(tokens=('ręcznego', 'miotacza'), freq=5, pmi=13.656044921435424),\n",
       " NGram(tokens=('młyny', 'kulowe'), freq=5, pmi=13.656044921435424),\n",
       " NGram(tokens=('młynki', 'młotkowe'), freq=5, pmi=13.656044921435424),\n",
       " NGram(tokens=('najnowszych', 'zdobyczy'), freq=5, pmi=13.656044921435424),\n",
       " NGram(tokens=('otworami', 'wiertniczymi'), freq=5, pmi=13.656044921435424)]"
      ]
     },
     "execution_count": 36,
     "metadata": {},
     "output_type": "execute_result"
    }
   ],
   "source": [
    "bi_grams_sort_filt = [bi_gram for bi_gram in bi_grams_sort if bi_gram.freq > 4]\n",
    "bi_grams_sort_filt[:10]"
   ]
  },
  {
   "cell_type": "markdown",
   "metadata": {},
   "source": [
    "# Use KRNNT or Clarin-PL to tag and lemmatize the corpus"
   ]
  },
  {
   "cell_type": "code",
   "execution_count": 43,
   "metadata": {},
   "outputs": [],
   "source": [
    "import requests\n",
    "import time"
   ]
  },
  {
   "cell_type": "code",
   "execution_count": 44,
   "metadata": {},
   "outputs": [],
   "source": [
    "CLARIN_URL = \"https://ws.clarin-pl.eu/nlprest2/base/\"\n",
    "INPUT_FILE = \"ustawy.zip\"\n",
    "OUTPUT_FILE = \"analysis.zip\"\n",
    "OUTPUT_PATH = \"ustawy_analyzed\""
   ]
  },
  {
   "cell_type": "markdown",
   "metadata": {},
   "source": [
    "### Compress the corpus"
   ]
  },
  {
   "cell_type": "code",
   "execution_count": null,
   "metadata": {},
   "outputs": [],
   "source": [
    "!zip -q ustawy.zip ustawy/*"
   ]
  },
  {
   "cell_type": "markdown",
   "metadata": {},
   "source": [
    "### Upload the corpus"
   ]
  },
  {
   "cell_type": "code",
   "execution_count": 57,
   "metadata": {},
   "outputs": [
    {
     "data": {
      "text/plain": [
       "'/users/default/bfb560bc-87ad-4c0e-b904-dc74bb5b4fd5'"
      ]
     },
     "execution_count": 57,
     "metadata": {},
     "output_type": "execute_result"
    }
   ],
   "source": [
    "with open(INPUT_FILE, \"rb\") as f:\n",
    "    data = f.read()\n",
    "res1 = requests.post(f\"{CLARIN_URL}/upload\",\n",
    "                     data=data,\n",
    "                     headers={'Content-Type': \"binary/octet-stream\"})\n",
    "res1.raise_for_status()\n",
    "res1.text"
   ]
  },
  {
   "cell_type": "code",
   "execution_count": 58,
   "metadata": {},
   "outputs": [],
   "source": [
    "file_id = res1.text"
   ]
  },
  {
   "cell_type": "markdown",
   "metadata": {},
   "source": [
    "### Start analysis"
   ]
  },
  {
   "cell_type": "code",
   "execution_count": 73,
   "metadata": {},
   "outputs": [
    {
     "data": {
      "text/plain": [
       "'cd6b1523-1cc1-4444-abe7-e00e66b95cf6'"
      ]
     },
     "execution_count": 73,
     "metadata": {},
     "output_type": "execute_result"
    }
   ],
   "source": [
    "res2 = requests.post(f\"{CLARIN_URL}/startTask\",\n",
    "                     json={\n",
    "                         \"lpmn\": f'filezip({file_id})|any2txt|wcrft2({{\"guesser\":false, \"morfeusz2\":true}})|dir|makezip',\n",
    "                         \"user\": \"adamksiezyk@student.agh.edu.pl\"\n",
    "                     })\n",
    "res2.raise_for_status()\n",
    "res2.text"
   ]
  },
  {
   "cell_type": "code",
   "execution_count": 74,
   "metadata": {},
   "outputs": [],
   "source": [
    "task_id = res2.text"
   ]
  },
  {
   "cell_type": "markdown",
   "metadata": {},
   "source": [
    "### Check status"
   ]
  },
  {
   "cell_type": "code",
   "execution_count": 78,
   "metadata": {},
   "outputs": [
    {
     "name": "stdout",
     "output_type": "stream",
     "text": [
      "{'status': 'PROCESSING', 'value': 0.7620865139949109}\n",
      "{'status': 'PROCESSING', 'value': 0.8748939779474131}\n",
      "{'status': 'PROCESSING', 'value': 0.9584393553859203}\n",
      "{'status': 'PROCESSING', 'value': 0.9991518235793045}\n",
      "{'status': 'PROCESSING', 'value': 0.9991518235793045}\n",
      "{'status': 'PROCESSING', 'value': 0.9991518235793045}\n",
      "{'status': 'PROCESSING', 'value': 0.9991518235793045}\n",
      "{'status': 'DONE', 'value': [{'name': 'dane', 'fileID': '/requests/makezip/97d36baf-01d3-4990-a550-5ec3479e1c47'}]}\n"
     ]
    }
   ],
   "source": [
    "while True:\n",
    "    res3 = requests.get(f\"{CLARIN_URL}/getStatus/{task_id}\")\n",
    "    res3.raise_for_status()\n",
    "    res3_json = res3.json()\n",
    "    print(res3_json)\n",
    "    if res3_json['status'] == \"ERROR\":\n",
    "        raise RuntimeError(res3_json)\n",
    "    if res3_json['status'] == \"DONE\":\n",
    "        break\n",
    "    time.sleep(5)\n",
    "    "
   ]
  },
  {
   "cell_type": "code",
   "execution_count": 79,
   "metadata": {},
   "outputs": [],
   "source": [
    "file_id = res3_json['value'][0]['fileID']"
   ]
  },
  {
   "cell_type": "markdown",
   "metadata": {},
   "source": [
    "### Download result"
   ]
  },
  {
   "cell_type": "code",
   "execution_count": 80,
   "metadata": {},
   "outputs": [],
   "source": [
    "with requests.get(f\"{CLARIN_URL}/download{file_id}\") as r, open(OUTPUT_FILE, 'wb') as f:\n",
    "    r.raise_for_status()\n",
    "    for chunk in r.iter_content(1024):\n",
    "        f.write(chunk)"
   ]
  },
  {
   "cell_type": "code",
   "execution_count": 20,
   "metadata": {},
   "outputs": [],
   "source": [
    "!mkdir ustawy_analyzed\n",
    "!unzip -q analysis -d ustawy_analyzed"
   ]
  },
  {
   "cell_type": "markdown",
   "metadata": {},
   "source": [
    "### Create corpus"
   ]
  },
  {
   "cell_type": "code",
   "execution_count": 38,
   "metadata": {},
   "outputs": [],
   "source": [
    "from xml.etree import ElementTree as ET"
   ]
  },
  {
   "cell_type": "code",
   "execution_count": 45,
   "metadata": {},
   "outputs": [],
   "source": [
    "documents_analyzed = utils.read_documents(OUTPUT_PATH)"
   ]
  },
  {
   "cell_type": "code",
   "execution_count": 66,
   "metadata": {},
   "outputs": [],
   "source": [
    "def parse_analysis(xml_str):\n",
    "    tags = []\n",
    "    root = ET.fromstring(xml_str)\n",
    "    for lex in root.findall(\"./chunk/sentence/tok\"):\n",
    "        base = lex.find(\"lex/base\").text\n",
    "        ctag = lex.find(\"lex/ctag\").text.split(':')[0]\n",
    "        tags.append(f\"{base}:{ctag}\")\n",
    "    return tags"
   ]
  },
  {
   "cell_type": "code",
   "execution_count": 67,
   "metadata": {},
   "outputs": [
    {
     "data": {
      "text/plain": [
       "['Dzieje_(Apostolskie):brev',\n",
       " '.:interp',\n",
       " 'u:prep',\n",
       " '.:interp',\n",
       " 'z:prep',\n",
       " '2000:num',\n",
       " 'r:ign',\n",
       " '.:interp',\n",
       " 'nr:subst',\n",
       " '48:num']"
      ]
     },
     "execution_count": 67,
     "metadata": {},
     "output_type": "execute_result"
    }
   ],
   "source": [
    "tags = []\n",
    "for doc in documents_analyzed.values():\n",
    "    tags.extend(parse_analysis(doc))\n",
    "\n",
    "tags[:10]"
   ]
  },
  {
   "cell_type": "markdown",
   "metadata": {},
   "source": [
    "# Using the tagged corpus compute bigram statistic"
   ]
  },
  {
   "cell_type": "code",
   "execution_count": 68,
   "metadata": {},
   "outputs": [],
   "source": [
    "tags_bi_grams = create_bi_grams(tags)"
   ]
  },
  {
   "cell_type": "code",
   "execution_count": 69,
   "metadata": {},
   "outputs": [
    {
     "data": {
      "text/plain": [
       "[NGram(tokens=('ustawa:subst', 'z:prep'), freq=8625, pmi=None),\n",
       " NGram(tokens=('z:prep', 'dzień:subst'), freq=11360, pmi=None),\n",
       " NGram(tokens=('o:prep', 'zmiana:subst'), freq=1409, pmi=None),\n",
       " NGram(tokens=('zmiana:subst', 'ustawa:subst'), freq=908, pmi=None),\n",
       " NGram(tokens=('ustawa:subst', 'o:prep'), freq=1668, pmi=None)]"
      ]
     },
     "execution_count": 69,
     "metadata": {},
     "output_type": "execute_result"
    }
   ],
   "source": [
    "tags_bi_grams_filt = [bi_gram for bi_gram in tags_bi_grams if all(t[::-1].replace(':', '', 1).isalpha() for t in bi_gram.tokens)]\n",
    "tags_bi_grams_filt[:5]"
   ]
  },
  {
   "cell_type": "markdown",
   "metadata": {},
   "source": [
    "# Compute the same statistics as for the non-lemmatized words (i.e. PMI) and print top-10 entries with at least 5 occurrences"
   ]
  },
  {
   "cell_type": "code",
   "execution_count": 70,
   "metadata": {},
   "outputs": [],
   "source": [
    "TAGS_FREQ = {\n",
    "    t: cnt\n",
    "    for t, cnt in Counter(tags).items()\n",
    "}"
   ]
  },
  {
   "cell_type": "code",
   "execution_count": 71,
   "metadata": {},
   "outputs": [
    {
     "data": {
      "text/plain": [
       "[NGram(tokens=('Grzegorz:subst', 'Schetyna:ign'), freq=5, pmi=12.501439145158873),\n",
       " NGram(tokens=('młynek:subst', 'młotkowy:adj'), freq=5, pmi=12.501439145158873),\n",
       " NGram(tokens=('teryto:ign', 'rialnego:ign'), freq=5, pmi=12.501439145158873),\n",
       " NGram(tokens=('odpowiedzieć:fin', 'dzialności:ign'), freq=5, pmi=12.238404739325079),\n",
       " NGram(tokens=('pasta:subst', 'emulsyjny:adj'), freq=5, pmi=12.238404739325079),\n",
       " NGram(tokens=('Adam:subst', 'Mickiewicz:subst'), freq=6, pmi=12.238404739325079),\n",
       " NGram(tokens=('chrom:subst', 'sześciowartościowy:adj'), freq=5, pmi=12.238404739325079),\n",
       " NGram(tokens=('łańcuchowa:subst', 'rozszczepienie:subst'), freq=5, pmi=12.238404739325079),\n",
       " NGram(tokens=('młyn:subst', 'kulowy:adj'), freq=5, pmi=12.016012317988631),\n",
       " NGram(tokens=('Piotrek:subst', 'trybunalski:adj'), freq=7, pmi=12.016012317988631)]"
      ]
     },
     "execution_count": 71,
     "metadata": {},
     "output_type": "execute_result"
    }
   ],
   "source": [
    "tags_bi_grams_pmi = [calculate_pmi(bi_gram, TAGS_FREQ) for bi_gram in tags_bi_grams_filt if bi_gram.freq > 4]\n",
    "tags_bi_grams_sort = sorted(tags_bi_grams_pmi, key=lambda x: x.pmi, reverse=True)\n",
    "tags_bi_grams_sort[:10]"
   ]
  },
  {
   "cell_type": "markdown",
   "metadata": {},
   "source": [
    "# Compute trigram counts for both corpora and perform the same filtering"
   ]
  },
  {
   "cell_type": "markdown",
   "metadata": {},
   "source": [
    "### Trigrams for tokenized corpus"
   ]
  },
  {
   "cell_type": "code",
   "execution_count": 72,
   "metadata": {},
   "outputs": [
    {
     "data": {
      "text/plain": [
       "[NGram(tokens=('tekst', 'ustawy', 'ustalony'), freq=82, pmi=None),\n",
       " NGram(tokens=('ustawy', 'ustalony', 'ostatecznie'), freq=82, pmi=None),\n",
       " NGram(tokens=('ustalony', 'ostatecznie', 'po'), freq=82, pmi=None),\n",
       " NGram(tokens=('ostatecznie', 'po', 'rozpatrzeniu'), freq=81, pmi=None),\n",
       " NGram(tokens=('po', 'rozpatrzeniu', 'poprawek'), freq=81, pmi=None)]"
      ]
     },
     "execution_count": 72,
     "metadata": {},
     "output_type": "execute_result"
    }
   ],
   "source": [
    "tokens_tri_grams = create_tri_grams(tokens)\n",
    "tokens_tri_grams_filt = [tri_gram for tri_gram in tokens_tri_grams if all(t.isalpha() for t in tri_gram.tokens)]\n",
    "tokens_tri_grams_filt[:5]"
   ]
  },
  {
   "cell_type": "markdown",
   "metadata": {},
   "source": [
    "### Trigrams for tagged corpus"
   ]
  },
  {
   "cell_type": "code",
   "execution_count": 73,
   "metadata": {},
   "outputs": [
    {
     "data": {
      "text/plain": [
       "[NGram(tokens=('ustawa:subst', 'z:prep', 'dzień:subst'), freq=8589, pmi=None),\n",
       " NGram(tokens=('o:prep', 'zmiana:subst', 'ustawa:subst'), freq=866, pmi=None),\n",
       " NGram(tokens=('zmiana:subst', 'ustawa:subst', 'o:prep'), freq=647, pmi=None),\n",
       " NGram(tokens=('ustawa:subst', 'o:prep', 'utworzyć:ger'), freq=12, pmi=None),\n",
       " NGram(tokens=('o:prep', 'utworzyć:ger', 'agencja:subst'), freq=34, pmi=None)]"
      ]
     },
     "execution_count": 73,
     "metadata": {},
     "output_type": "execute_result"
    }
   ],
   "source": [
    "tags_tri_grams = create_tri_grams(tags)\n",
    "tags_tri_grams_filt = [tri_gram for tri_gram in tags_tri_grams if all(t[::-1].replace(':', '', 1).isalpha() for t in tri_gram.tokens)]\n",
    "tags_tri_grams_filt[:5]"
   ]
  },
  {
   "cell_type": "markdown",
   "metadata": {},
   "source": [
    "# Use PMI (with 5 occurrence threshold) to compute top 10 results for the trigrams"
   ]
  },
  {
   "cell_type": "markdown",
   "metadata": {},
   "source": [
    "### PMI for tokenized trigrams"
   ]
  },
  {
   "cell_type": "code",
   "execution_count": 59,
   "metadata": {},
   "outputs": [
    {
     "data": {
      "text/plain": [
       "[NGram(tokens=('finałowego', 'turnieju', 'mistrzostw'), freq=10, pmi=24.796074695867183),\n",
       " NGram(tokens=('profilem', 'zaufanym', 'epuap'), freq=13, pmi=24.55506659636339),\n",
       " NGram(tokens=('cienką', 'sierścią', 'zwierzęcą'), freq=11, pmi=24.496514414008274),\n",
       " NGram(tokens=('przedwczesnego', 'wyrębu', 'drzewostanu'), freq=7, pmi=24.370983531924416),\n",
       " NGram(tokens=('centralnemu', 'biuru', 'antykorupcyjnemu'), freq=5, pmi=24.104196991229514),\n",
       " NGram(tokens=('turnieju', 'mistrzostw', 'europy'), freq=10, pmi=24.030539949504206),\n",
       " NGram(tokens=('potwierdzonym', 'profilem', 'zaufanym'), freq=13, pmi=24.007578801060895),\n",
       " NGram(tokens=('szybkiemu', 'postępowi', 'technicznemu'), freq=9, pmi=23.879130435594742),\n",
       " NGram(tokens=('piłce', 'nożnej', 'uefa'), freq=10, pmi=23.86002161264704),\n",
       " NGram(tokens=('wypalonym', 'paliwem', 'jądrowym'), freq=8, pmi=23.656738014258295)]"
      ]
     },
     "execution_count": 59,
     "metadata": {},
     "output_type": "execute_result"
    }
   ],
   "source": [
    "tokens_tri_grams_pmi = [calculate_pmi(tri_gram, TOKENS_FREQ) for tri_gram in tokens_tri_grams_filt if tri_gram.freq > 4]\n",
    "tokens_tri_grams_sort = sorted(tokens_tri_grams_pmi, key=lambda x: x.pmi, reverse=True)\n",
    "tokens_tri_grams_sort[:10]"
   ]
  },
  {
   "cell_type": "markdown",
   "metadata": {},
   "source": [
    "### PMI for tagged trigrams"
   ]
  },
  {
   "cell_type": "code",
   "execution_count": 74,
   "metadata": {},
   "outputs": [
    {
     "data": {
      "text/plain": [
       "[NGram(tokens=('porcelanowy:adj', 'młyn:subst', 'kulowy:adj'), freq=5, pmi=23.517451463147502),\n",
       " NGram(tokens=('wymiennik:subst', 'przeponowy:adj', 'rurowy:adj'), freq=7, pmi=22.64673448009247),\n",
       " NGram(tokens=('reakcja:subst', 'łańcuchowa:subst', 'rozszczepienie:subst'), freq=5, pmi=21.81384446592773),\n",
       " NGram(tokens=('piłka:subst', 'nożny:adj', 'UEFA:subst'), freq=10, pmi=20.887845047371506),\n",
       " NGram(tokens=('Stany:subst', 'zjednoczyć:ppas', 'Ameryka:subst'), freq=6, pmi=20.64673448009247),\n",
       " NGram(tokens=('finałowy:adj', 'turniej:subst', 'mistrzostwa:subst'), freq=10, pmi=20.605075328455257),\n",
       " NGram(tokens=('przedwczesny:adj', 'wyrąb:subst', 'drzewostan:subst'), freq=9, pmi=20.432415359291703),\n",
       " NGram(tokens=('kurtka:subst', 'anorak:subst', 'etc:ign'), freq=8, pmi=20.289182475474387),\n",
       " NGram(tokens=('mecz:subst', 'piłka:subst', 'nożny:adj'), freq=5, pmi=20.1508794532053),\n",
       " NGram(tokens=('profil:subst', 'zaufany:adj', 'ePUAP:ign'), freq=13, pmi=20.063651712589536)]"
      ]
     },
     "execution_count": 74,
     "metadata": {},
     "output_type": "execute_result"
    }
   ],
   "source": [
    "tags_tri_grams_pmi = [calculate_pmi(tri_gram, TAGS_FREQ) for tri_gram in tags_tri_grams_filt if tri_gram.freq > 4]\n",
    "tags_tri_grams_sort = sorted(tags_tri_grams_pmi, key=lambda x: x.pmi, reverse=True)\n",
    "tags_tri_grams_sort[:10]"
   ]
  },
  {
   "cell_type": "markdown",
   "metadata": {},
   "source": [
    "# Create a table comparing the results for copora without and with tagging and lemmatization"
   ]
  },
  {
   "cell_type": "code",
   "execution_count": 61,
   "metadata": {},
   "outputs": [],
   "source": [
    "import pandas as pd"
   ]
  },
  {
   "cell_type": "markdown",
   "metadata": {},
   "source": [
    "### Bigrams comparison"
   ]
  },
  {
   "cell_type": "code",
   "execution_count": 77,
   "metadata": {},
   "outputs": [
    {
     "data": {
      "text/html": [
       "<div>\n",
       "<style scoped>\n",
       "    .dataframe tbody tr th:only-of-type {\n",
       "        vertical-align: middle;\n",
       "    }\n",
       "\n",
       "    .dataframe tbody tr th {\n",
       "        vertical-align: top;\n",
       "    }\n",
       "\n",
       "    .dataframe thead tr th {\n",
       "        text-align: left;\n",
       "    }\n",
       "</style>\n",
       "<table border=\"1\" class=\"dataframe\">\n",
       "  <thead>\n",
       "    <tr>\n",
       "      <th>corpus</th>\n",
       "      <th colspan=\"4\" halign=\"left\">tokens</th>\n",
       "      <th colspan=\"4\" halign=\"left\">tags</th>\n",
       "    </tr>\n",
       "    <tr>\n",
       "      <th>field</th>\n",
       "      <th>t1</th>\n",
       "      <th>t2</th>\n",
       "      <th>freq</th>\n",
       "      <th>pmi</th>\n",
       "      <th>t1</th>\n",
       "      <th>t2</th>\n",
       "      <th>freq</th>\n",
       "      <th>pmi</th>\n",
       "    </tr>\n",
       "  </thead>\n",
       "  <tbody>\n",
       "    <tr>\n",
       "      <th>0</th>\n",
       "      <td>zaszkodzić</td>\n",
       "      <td>wynikom</td>\n",
       "      <td>5</td>\n",
       "      <td>13.656045</td>\n",
       "      <td>Grzegorz:subst</td>\n",
       "      <td>Schetyna:ign</td>\n",
       "      <td>5</td>\n",
       "      <td>12.501439</td>\n",
       "    </tr>\n",
       "    <tr>\n",
       "      <th>1</th>\n",
       "      <td>świeckie</td>\n",
       "      <td>przygotowujące</td>\n",
       "      <td>5</td>\n",
       "      <td>13.656045</td>\n",
       "      <td>młynek:subst</td>\n",
       "      <td>młotkowy:adj</td>\n",
       "      <td>5</td>\n",
       "      <td>12.501439</td>\n",
       "    </tr>\n",
       "    <tr>\n",
       "      <th>2</th>\n",
       "      <td>grzegorz</td>\n",
       "      <td>schetyna</td>\n",
       "      <td>5</td>\n",
       "      <td>13.656045</td>\n",
       "      <td>teryto:ign</td>\n",
       "      <td>rialnego:ign</td>\n",
       "      <td>5</td>\n",
       "      <td>12.501439</td>\n",
       "    </tr>\n",
       "    <tr>\n",
       "      <th>3</th>\n",
       "      <td>stajnią</td>\n",
       "      <td>wyścigową</td>\n",
       "      <td>5</td>\n",
       "      <td>13.656045</td>\n",
       "      <td>odpowiedzieć:fin</td>\n",
       "      <td>dzialności:ign</td>\n",
       "      <td>5</td>\n",
       "      <td>12.238405</td>\n",
       "    </tr>\n",
       "    <tr>\n",
       "      <th>4</th>\n",
       "      <td>teryto</td>\n",
       "      <td>rialnego</td>\n",
       "      <td>5</td>\n",
       "      <td>13.656045</td>\n",
       "      <td>pasta:subst</td>\n",
       "      <td>emulsyjny:adj</td>\n",
       "      <td>5</td>\n",
       "      <td>12.238405</td>\n",
       "    </tr>\n",
       "    <tr>\n",
       "      <th>5</th>\n",
       "      <td>ręcznego</td>\n",
       "      <td>miotacza</td>\n",
       "      <td>5</td>\n",
       "      <td>13.656045</td>\n",
       "      <td>Adam:subst</td>\n",
       "      <td>Mickiewicz:subst</td>\n",
       "      <td>6</td>\n",
       "      <td>12.238405</td>\n",
       "    </tr>\n",
       "    <tr>\n",
       "      <th>6</th>\n",
       "      <td>młyny</td>\n",
       "      <td>kulowe</td>\n",
       "      <td>5</td>\n",
       "      <td>13.656045</td>\n",
       "      <td>chrom:subst</td>\n",
       "      <td>sześciowartościowy:adj</td>\n",
       "      <td>5</td>\n",
       "      <td>12.238405</td>\n",
       "    </tr>\n",
       "    <tr>\n",
       "      <th>7</th>\n",
       "      <td>młynki</td>\n",
       "      <td>młotkowe</td>\n",
       "      <td>5</td>\n",
       "      <td>13.656045</td>\n",
       "      <td>łańcuchowa:subst</td>\n",
       "      <td>rozszczepienie:subst</td>\n",
       "      <td>5</td>\n",
       "      <td>12.238405</td>\n",
       "    </tr>\n",
       "    <tr>\n",
       "      <th>8</th>\n",
       "      <td>najnowszych</td>\n",
       "      <td>zdobyczy</td>\n",
       "      <td>5</td>\n",
       "      <td>13.656045</td>\n",
       "      <td>młyn:subst</td>\n",
       "      <td>kulowy:adj</td>\n",
       "      <td>5</td>\n",
       "      <td>12.016012</td>\n",
       "    </tr>\n",
       "    <tr>\n",
       "      <th>9</th>\n",
       "      <td>otworami</td>\n",
       "      <td>wiertniczymi</td>\n",
       "      <td>5</td>\n",
       "      <td>13.656045</td>\n",
       "      <td>Piotrek:subst</td>\n",
       "      <td>trybunalski:adj</td>\n",
       "      <td>7</td>\n",
       "      <td>12.016012</td>\n",
       "    </tr>\n",
       "  </tbody>\n",
       "</table>\n",
       "</div>"
      ],
      "text/plain": [
       "corpus       tokens                                              tags  \\\n",
       "field            t1              t2 freq        pmi                t1   \n",
       "0        zaszkodzić         wynikom    5  13.656045    Grzegorz:subst   \n",
       "1          świeckie  przygotowujące    5  13.656045      młynek:subst   \n",
       "2          grzegorz        schetyna    5  13.656045        teryto:ign   \n",
       "3           stajnią       wyścigową    5  13.656045  odpowiedzieć:fin   \n",
       "4            teryto        rialnego    5  13.656045       pasta:subst   \n",
       "5          ręcznego        miotacza    5  13.656045        Adam:subst   \n",
       "6             młyny          kulowe    5  13.656045       chrom:subst   \n",
       "7            młynki        młotkowe    5  13.656045  łańcuchowa:subst   \n",
       "8       najnowszych        zdobyczy    5  13.656045        młyn:subst   \n",
       "9          otworami    wiertniczymi    5  13.656045     Piotrek:subst   \n",
       "\n",
       "corpus                                          \n",
       "field                       t2 freq        pmi  \n",
       "0                 Schetyna:ign    5  12.501439  \n",
       "1                 młotkowy:adj    5  12.501439  \n",
       "2                 rialnego:ign    5  12.501439  \n",
       "3               dzialności:ign    5  12.238405  \n",
       "4                emulsyjny:adj    5  12.238405  \n",
       "5             Mickiewicz:subst    6  12.238405  \n",
       "6       sześciowartościowy:adj    5  12.238405  \n",
       "7         rozszczepienie:subst    5  12.238405  \n",
       "8                   kulowy:adj    5  12.016012  \n",
       "9              trybunalski:adj    7  12.016012  "
      ]
     },
     "execution_count": 77,
     "metadata": {},
     "output_type": "execute_result"
    }
   ],
   "source": [
    "index = pd.MultiIndex.from_tuples([\n",
    "    ('tokens', 't1'),\n",
    "    ('tokens', 't2'),\n",
    "    ('tokens', 'freq'),\n",
    "    ('tokens', 'pmi'),\n",
    "    ('tags', 't1'),\n",
    "    ('tags', 't2'),\n",
    "    ('tags', 'freq'),\n",
    "    ('tags', 'pmi'),\n",
    "], names=[\"corpus\", \"field\"])\n",
    "df = pd.DataFrame([(*big_tokens.tokens, big_tokens.freq, big_tokens.pmi, *big_tagas.tokens, big_tagas.freq, big_tagas.pmi)\n",
    "    for big_tokens, big_tagas in zip(bi_grams_sort_filt[:10], tags_bi_grams_sort[:10])], columns=index)\n",
    "df"
   ]
  },
  {
   "cell_type": "markdown",
   "metadata": {},
   "source": [
    "### Trigrams comparison"
   ]
  },
  {
   "cell_type": "code",
   "execution_count": 75,
   "metadata": {},
   "outputs": [
    {
     "data": {
      "text/html": [
       "<div>\n",
       "<style scoped>\n",
       "    .dataframe tbody tr th:only-of-type {\n",
       "        vertical-align: middle;\n",
       "    }\n",
       "\n",
       "    .dataframe tbody tr th {\n",
       "        vertical-align: top;\n",
       "    }\n",
       "\n",
       "    .dataframe thead tr th {\n",
       "        text-align: left;\n",
       "    }\n",
       "</style>\n",
       "<table border=\"1\" class=\"dataframe\">\n",
       "  <thead>\n",
       "    <tr>\n",
       "      <th>corpus</th>\n",
       "      <th colspan=\"5\" halign=\"left\">tokens</th>\n",
       "      <th colspan=\"5\" halign=\"left\">tags</th>\n",
       "    </tr>\n",
       "    <tr>\n",
       "      <th>field</th>\n",
       "      <th>t1</th>\n",
       "      <th>t2</th>\n",
       "      <th>t3</th>\n",
       "      <th>freq</th>\n",
       "      <th>pmi</th>\n",
       "      <th>t1</th>\n",
       "      <th>t2</th>\n",
       "      <th>t3</th>\n",
       "      <th>freq</th>\n",
       "      <th>pmi</th>\n",
       "    </tr>\n",
       "  </thead>\n",
       "  <tbody>\n",
       "    <tr>\n",
       "      <th>0</th>\n",
       "      <td>finałowego</td>\n",
       "      <td>turnieju</td>\n",
       "      <td>mistrzostw</td>\n",
       "      <td>10</td>\n",
       "      <td>24.796075</td>\n",
       "      <td>porcelanowy:adj</td>\n",
       "      <td>młyn:subst</td>\n",
       "      <td>kulowy:adj</td>\n",
       "      <td>5</td>\n",
       "      <td>23.517451</td>\n",
       "    </tr>\n",
       "    <tr>\n",
       "      <th>1</th>\n",
       "      <td>profilem</td>\n",
       "      <td>zaufanym</td>\n",
       "      <td>epuap</td>\n",
       "      <td>13</td>\n",
       "      <td>24.555067</td>\n",
       "      <td>wymiennik:subst</td>\n",
       "      <td>przeponowy:adj</td>\n",
       "      <td>rurowy:adj</td>\n",
       "      <td>7</td>\n",
       "      <td>22.646734</td>\n",
       "    </tr>\n",
       "    <tr>\n",
       "      <th>2</th>\n",
       "      <td>cienką</td>\n",
       "      <td>sierścią</td>\n",
       "      <td>zwierzęcą</td>\n",
       "      <td>11</td>\n",
       "      <td>24.496514</td>\n",
       "      <td>reakcja:subst</td>\n",
       "      <td>łańcuchowa:subst</td>\n",
       "      <td>rozszczepienie:subst</td>\n",
       "      <td>5</td>\n",
       "      <td>21.813844</td>\n",
       "    </tr>\n",
       "    <tr>\n",
       "      <th>3</th>\n",
       "      <td>przedwczesnego</td>\n",
       "      <td>wyrębu</td>\n",
       "      <td>drzewostanu</td>\n",
       "      <td>7</td>\n",
       "      <td>24.370984</td>\n",
       "      <td>piłka:subst</td>\n",
       "      <td>nożny:adj</td>\n",
       "      <td>UEFA:subst</td>\n",
       "      <td>10</td>\n",
       "      <td>20.887845</td>\n",
       "    </tr>\n",
       "    <tr>\n",
       "      <th>4</th>\n",
       "      <td>centralnemu</td>\n",
       "      <td>biuru</td>\n",
       "      <td>antykorupcyjnemu</td>\n",
       "      <td>5</td>\n",
       "      <td>24.104197</td>\n",
       "      <td>Stany:subst</td>\n",
       "      <td>zjednoczyć:ppas</td>\n",
       "      <td>Ameryka:subst</td>\n",
       "      <td>6</td>\n",
       "      <td>20.646734</td>\n",
       "    </tr>\n",
       "    <tr>\n",
       "      <th>5</th>\n",
       "      <td>turnieju</td>\n",
       "      <td>mistrzostw</td>\n",
       "      <td>europy</td>\n",
       "      <td>10</td>\n",
       "      <td>24.030540</td>\n",
       "      <td>finałowy:adj</td>\n",
       "      <td>turniej:subst</td>\n",
       "      <td>mistrzostwa:subst</td>\n",
       "      <td>10</td>\n",
       "      <td>20.605075</td>\n",
       "    </tr>\n",
       "    <tr>\n",
       "      <th>6</th>\n",
       "      <td>potwierdzonym</td>\n",
       "      <td>profilem</td>\n",
       "      <td>zaufanym</td>\n",
       "      <td>13</td>\n",
       "      <td>24.007579</td>\n",
       "      <td>przedwczesny:adj</td>\n",
       "      <td>wyrąb:subst</td>\n",
       "      <td>drzewostan:subst</td>\n",
       "      <td>9</td>\n",
       "      <td>20.432415</td>\n",
       "    </tr>\n",
       "    <tr>\n",
       "      <th>7</th>\n",
       "      <td>szybkiemu</td>\n",
       "      <td>postępowi</td>\n",
       "      <td>technicznemu</td>\n",
       "      <td>9</td>\n",
       "      <td>23.879130</td>\n",
       "      <td>kurtka:subst</td>\n",
       "      <td>anorak:subst</td>\n",
       "      <td>etc:ign</td>\n",
       "      <td>8</td>\n",
       "      <td>20.289182</td>\n",
       "    </tr>\n",
       "    <tr>\n",
       "      <th>8</th>\n",
       "      <td>piłce</td>\n",
       "      <td>nożnej</td>\n",
       "      <td>uefa</td>\n",
       "      <td>10</td>\n",
       "      <td>23.860022</td>\n",
       "      <td>mecz:subst</td>\n",
       "      <td>piłka:subst</td>\n",
       "      <td>nożny:adj</td>\n",
       "      <td>5</td>\n",
       "      <td>20.150879</td>\n",
       "    </tr>\n",
       "    <tr>\n",
       "      <th>9</th>\n",
       "      <td>wypalonym</td>\n",
       "      <td>paliwem</td>\n",
       "      <td>jądrowym</td>\n",
       "      <td>8</td>\n",
       "      <td>23.656738</td>\n",
       "      <td>profil:subst</td>\n",
       "      <td>zaufany:adj</td>\n",
       "      <td>ePUAP:ign</td>\n",
       "      <td>13</td>\n",
       "      <td>20.063652</td>\n",
       "    </tr>\n",
       "  </tbody>\n",
       "</table>\n",
       "</div>"
      ],
      "text/plain": [
       "corpus          tokens                                                \\\n",
       "field               t1          t2                t3 freq        pmi   \n",
       "0           finałowego    turnieju        mistrzostw   10  24.796075   \n",
       "1             profilem    zaufanym             epuap   13  24.555067   \n",
       "2               cienką    sierścią         zwierzęcą   11  24.496514   \n",
       "3       przedwczesnego      wyrębu       drzewostanu    7  24.370984   \n",
       "4          centralnemu       biuru  antykorupcyjnemu    5  24.104197   \n",
       "5             turnieju  mistrzostw            europy   10  24.030540   \n",
       "6        potwierdzonym    profilem          zaufanym   13  24.007579   \n",
       "7            szybkiemu   postępowi      technicznemu    9  23.879130   \n",
       "8                piłce      nożnej              uefa   10  23.860022   \n",
       "9            wypalonym     paliwem          jądrowym    8  23.656738   \n",
       "\n",
       "corpus              tags                                               \\\n",
       "field                 t1                t2                    t3 freq   \n",
       "0        porcelanowy:adj        młyn:subst            kulowy:adj    5   \n",
       "1        wymiennik:subst    przeponowy:adj            rurowy:adj    7   \n",
       "2          reakcja:subst  łańcuchowa:subst  rozszczepienie:subst    5   \n",
       "3            piłka:subst         nożny:adj            UEFA:subst   10   \n",
       "4            Stany:subst   zjednoczyć:ppas         Ameryka:subst    6   \n",
       "5           finałowy:adj     turniej:subst     mistrzostwa:subst   10   \n",
       "6       przedwczesny:adj       wyrąb:subst      drzewostan:subst    9   \n",
       "7           kurtka:subst      anorak:subst               etc:ign    8   \n",
       "8             mecz:subst       piłka:subst             nożny:adj    5   \n",
       "9           profil:subst       zaufany:adj             ePUAP:ign   13   \n",
       "\n",
       "corpus             \n",
       "field         pmi  \n",
       "0       23.517451  \n",
       "1       22.646734  \n",
       "2       21.813844  \n",
       "3       20.887845  \n",
       "4       20.646734  \n",
       "5       20.605075  \n",
       "6       20.432415  \n",
       "7       20.289182  \n",
       "8       20.150879  \n",
       "9       20.063652  "
      ]
     },
     "execution_count": 75,
     "metadata": {},
     "output_type": "execute_result"
    }
   ],
   "source": [
    "index = pd.MultiIndex.from_tuples([\n",
    "    ('tokens', 't1'),\n",
    "    ('tokens', 't2'),\n",
    "    ('tokens', 't3'),\n",
    "    ('tokens', 'freq'),\n",
    "    ('tokens', 'pmi'),\n",
    "    ('tags', 't1'),\n",
    "    ('tags', 't2'),\n",
    "    ('tags', 't3'),\n",
    "    ('tags', 'freq'),\n",
    "    ('tags', 'pmi'),\n",
    "], names=[\"corpus\", \"field\"])\n",
    "df = pd.DataFrame([(*trig_tokens.tokens, trig_tokens.freq, trig_tokens.pmi, *trig_tagas.tokens, trig_tagas.freq, trig_tagas.pmi)\n",
    "    for trig_tokens, trig_tagas in zip(tokens_tri_grams_sort[:10], tags_tri_grams_sort[:10])], columns=index)\n",
    "df"
   ]
  }
 ],
 "metadata": {
  "kernelspec": {
   "display_name": "Python 3.10.4 ('ds')",
   "language": "python",
   "name": "python3"
  },
  "language_info": {
   "codemirror_mode": {
    "name": "ipython",
    "version": 3
   },
   "file_extension": ".py",
   "mimetype": "text/x-python",
   "name": "python",
   "nbconvert_exporter": "python",
   "pygments_lexer": "ipython3",
   "version": "3.10.4"
  },
  "orig_nbformat": 4,
  "vscode": {
   "interpreter": {
    "hash": "a25df13df3a09e29cbdae6ff7053faf9527e3ea6ab1de3b1c9c24b3626196969"
   }
  }
 },
 "nbformat": 4,
 "nbformat_minor": 2
}
