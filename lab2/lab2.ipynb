{
 "cells": [
  {
   "cell_type": "markdown",
   "metadata": {},
   "source": [
    "# Lab 2 - FTS\n",
    "\n",
    "### Adam Księżyk\n",
    "\n",
    "#### 28.10.2022"
   ]
  },
  {
   "cell_type": "code",
   "execution_count": 1,
   "metadata": {},
   "outputs": [],
   "source": [
    "import functools\n",
    "import requests\n",
    "import os\n",
    "from elasticsearch import Elasticsearch\n",
    "\n",
    "from utils import read_documents"
   ]
  },
  {
   "cell_type": "markdown",
   "metadata": {},
   "source": [
    "# Connect to Elasticsearch"
   ]
  },
  {
   "cell_type": "code",
   "execution_count": 2,
   "metadata": {},
   "outputs": [
    {
     "data": {
      "text/plain": [
       "{'name': 'N-20L6PF1MBSVT',\n",
       " 'cluster_name': 'elasticsearch',\n",
       " 'cluster_uuid': '5ZKs25L6TviNkrMXcgbdlw',\n",
       " 'version': {'number': '8.4.3',\n",
       "  'build_flavor': 'default',\n",
       "  'build_type': 'tar',\n",
       "  'build_hash': '42f05b9372a9a4a470db3b52817899b99a76ee73',\n",
       "  'build_date': '2022-10-04T07:17:24.662462378Z',\n",
       "  'build_snapshot': False,\n",
       "  'lucene_version': '9.3.0',\n",
       "  'minimum_wire_compatibility_version': '7.17.0',\n",
       "  'minimum_index_compatibility_version': '7.0.0'},\n",
       " 'tagline': 'You Know, for Search'}"
      ]
     },
     "execution_count": 2,
     "metadata": {},
     "output_type": "execute_result"
    }
   ],
   "source": [
    "HOST = \"http://localhost:9200\"\n",
    "es = Elasticsearch(HOST)\n",
    "es.info().body"
   ]
  },
  {
   "cell_type": "markdown",
   "metadata": {},
   "source": [
    "## Elasticsearch index\n",
    "\n",
    "An index is created for all documents.\n",
    "\n",
    "```\n",
    "index/_doc/...\n",
    "```\n",
    "\n",
    "An analyzer is created per index\n",
    "\n",
    "```\n",
    "index/_analyzer\n",
    "```\n",
    "\n",
    "Searching\n",
    "\n",
    "```\n",
    "index/_search\n",
    "```"
   ]
  },
  {
   "cell_type": "code",
   "execution_count": 3,
   "metadata": {},
   "outputs": [],
   "source": [
    "ES_INDEX = \"polish_bills_index\"\n",
    "ES_ANALYZER = \"polish_bills_analyzer\"\n",
    "ES_DOC = \"doc\"\n",
    "\n",
    "ES_SYNONYMS = [\n",
    "    \"kpk => kodeks postępowania karnego\",\n",
    "    \"kpc => kodeks postępowania cywilnego\",\n",
    "    \"kk => kodeks karny\",\n",
    "    \"kc => kodeks cywilny\"\n",
    "]\n"
   ]
  },
  {
   "cell_type": "code",
   "execution_count": 4,
   "metadata": {},
   "outputs": [
    {
     "data": {
      "text/plain": [
       "ObjectApiResponse({'acknowledged': True, 'shards_acknowledged': True, 'index': 'polish_bills_index'})"
      ]
     },
     "execution_count": 4,
     "metadata": {},
     "output_type": "execute_result"
    }
   ],
   "source": [
    "if es.indices.exists(index=ES_INDEX):\n",
    "    es.indices.delete(index=ES_INDEX)\n",
    "\n",
    "res = es.indices.create(\n",
    "    index=ES_INDEX,\n",
    "    settings={\n",
    "        'analysis': {\n",
    "            'analyzer': {\n",
    "                f'{ES_ANALYZER}': {\n",
    "                    'type': 'custom',\n",
    "                    'tokenizer': 'standard',\n",
    "                    'filter': [\n",
    "                        \"lowercase\",\n",
    "                        \"synonym\",\n",
    "                        \"morfologik_stem\"\n",
    "                    ]\n",
    "                }\n",
    "            },\n",
    "            'filter': {\n",
    "                'synonym': {\n",
    "                    'type': \"synonym\",\n",
    "                    'expand': True,  # https://www.elastic.co/guide/en/elasticsearch/reference/current/analysis-synonym-tokenfilter.html\n",
    "                    'synonyms': ES_SYNONYMS\n",
    "                }\n",
    "            }\n",
    "        }\n",
    "    },\n",
    "    mappings={\n",
    "        'properties': {\n",
    "            'title': {\n",
    "                'type': \"text\",\n",
    "                'analyzer': f'{ES_ANALYZER}',\n",
    "            }\n",
    "        }\n",
    "    }\n",
    ")\n",
    "res"
   ]
  },
  {
   "cell_type": "markdown",
   "metadata": {},
   "source": [
    "# Upload documents"
   ]
  },
  {
   "cell_type": "code",
   "execution_count": 5,
   "metadata": {},
   "outputs": [],
   "source": [
    "def map_document_to_action(doc_name: str) -> dict:\n",
    "    return {\n",
    "        'index': {\n",
    "            '_id': doc_name,\n",
    "        }\n",
    "    }\n",
    "\n",
    "\n",
    "def map_document_to_source(doc_name: str, doc_text: str) -> dict:\n",
    "    return {\n",
    "        'name': doc_name,\n",
    "        'text': doc_text\n",
    "    }\n"
   ]
  },
  {
   "cell_type": "code",
   "execution_count": 6,
   "metadata": {},
   "outputs": [],
   "source": [
    "documents = read_documents()"
   ]
  },
  {
   "cell_type": "code",
   "execution_count": 7,
   "metadata": {},
   "outputs": [],
   "source": [
    "bulk_documents = functools.reduce(\n",
    "    lambda acc, x: acc + [map_document_to_action(x[0])] + [map_document_to_source(*x)],\n",
    "    documents.items(),\n",
    "    []\n",
    ")\n"
   ]
  },
  {
   "cell_type": "code",
   "execution_count": 8,
   "metadata": {},
   "outputs": [
    {
     "name": "stdout",
     "output_type": "stream",
     "text": [
      "Took: 2765, errors: False\n"
     ]
    }
   ],
   "source": [
    "res = es.bulk(index=ES_INDEX, operations=bulk_documents)\n",
    "print(f\"Took: {res['took']}, errors: {res['errors']}\")"
   ]
  },
  {
   "cell_type": "markdown",
   "metadata": {},
   "source": [
    "# Determine the number of legislative acts containing the word ustawa (in any form)"
   ]
  },
  {
   "cell_type": "code",
   "execution_count": 9,
   "metadata": {},
   "outputs": [
    {
     "name": "stdout",
     "output_type": "stream",
     "text": [
      "Documents containing the word \"ustawa\": 1178\n"
     ]
    }
   ],
   "source": [
    "res = es.count(index=ES_INDEX, query={'match': {'text': {'query': \"ustawa\"}}})\n",
    "count_ustawa = res['count']\n",
    "print(f'Documents containing the word \"ustawa\": {count_ustawa}')"
   ]
  },
  {
   "cell_type": "markdown",
   "metadata": {},
   "source": [
    "# Determine the number of occurrences of the word **ustawa** by searching for this particular form, including the other inflectional forms"
   ]
  },
  {
   "cell_type": "code",
   "execution_count": 10,
   "metadata": {},
   "outputs": [
    {
     "name": "stdout",
     "output_type": "stream",
     "text": [
      "Number of occurrences of the word \"ustawa\": 3235\n"
     ]
    }
   ],
   "source": [
    "ret = es.termvectors(\n",
    "    index=ES_INDEX,\n",
    "    id=\"1993_599.txt\",\n",
    "    fields=[\"text\"],\n",
    "    filter_path=[\"term_vectors.text.terms.ustawa.ttf\"],\n",
    "    term_statistics=True\n",
    ")\n",
    "ttf_ustawa = ret['term_vectors']['text']['terms']['ustawa']['ttf']\n",
    "print(f'Number of occurrences of the word \"ustawa\": {ttf_ustawa}')"
   ]
  },
  {
   "cell_type": "markdown",
   "metadata": {},
   "source": [
    "# Determine the number of occurrences of the word **ustaw** by searching for this particular form, including the other inflectional forms"
   ]
  },
  {
   "cell_type": "code",
   "execution_count": 11,
   "metadata": {},
   "outputs": [
    {
     "name": "stdout",
     "output_type": "stream",
     "text": [
      "Number of occurrences of the word \"ustaw\": 909\n"
     ]
    }
   ],
   "source": [
    "ret = es.termvectors(\n",
    "    index=ES_INDEX,\n",
    "    id=\"1993_599.txt\",\n",
    "    fields=[\"text\"],\n",
    "    filter_path=[\"term_vectors.text.terms.ustaw.ttf\"],\n",
    "    term_statistics=True\n",
    ")\n",
    "ttf_ustaw = ret['term_vectors']['text']['terms']['ustaw']['ttf']\n",
    "print(f'Number of occurrences of the word \"ustaw\": {ttf_ustaw}')"
   ]
  },
  {
   "cell_type": "markdown",
   "metadata": {},
   "source": [
    "# Determine the number of legislative acts containing the words kodeks postępowania cywilnego in the specified order, but in any inflection form"
   ]
  },
  {
   "cell_type": "code",
   "execution_count": 12,
   "metadata": {},
   "outputs": [
    {
     "name": "stdout",
     "output_type": "stream",
     "text": [
      "Number of documents containing the phrase \"kodeks postępowania cywilnego\" in any form but in specified order: 44\n"
     ]
    }
   ],
   "source": [
    "res = es.count(index=ES_INDEX, query={'match_phrase': {'text': \"kodeks postępowania cywilnego\"}})\n",
    "count_kpc = res['count']\n",
    "print(f'Number of documents containing the phrase \"kodeks postępowania cywilnego\" in any form but in specified order: {count_kpc}')"
   ]
  },
  {
   "cell_type": "markdown",
   "metadata": {},
   "source": [
    "# Determine the number of legislative acts containing the words wchodzi w życie (in any form) allowing for up to 2 additional words in the searched phrase"
   ]
  },
  {
   "cell_type": "code",
   "execution_count": 13,
   "metadata": {},
   "outputs": [
    {
     "name": "stdout",
     "output_type": "stream",
     "text": [
      "Number of documents containing the phrase \"wchodzi w życie\": 1174\n"
     ]
    }
   ],
   "source": [
    "res = es.count(index=ES_INDEX, query={'match_phrase': {'text': {'query': \"wchodzi w życie\", 'slop': 2}}})\n",
    "count_wwz = res['count']\n",
    "print(f'Number of documents containing the phrase \"wchodzi w życie\": {count_wwz}')"
   ]
  },
  {
   "cell_type": "markdown",
   "metadata": {},
   "source": [
    "# Determine the 10 documents that are the most relevant for the phrase konstytucja"
   ]
  },
  {
   "cell_type": "code",
   "execution_count": 14,
   "metadata": {},
   "outputs": [
    {
     "data": {
      "text/plain": [
       "[{'_id': '1997_629.txt', '_score': 9.632944},\n",
       " {'_id': '1999_688.txt', '_score': 7.644756}]"
      ]
     },
     "execution_count": 14,
     "metadata": {},
     "output_type": "execute_result"
    }
   ],
   "source": [
    "res = es.search(\n",
    "    index=ES_INDEX,\n",
    "    query={'match': {'text': \"konstytucja\"}},\n",
    "    filter_path=[\"hits.hits._id\", \"hits.hits._score\"],\n",
    "    size=10\n",
    ")\n",
    "res['hits']['hits']\n"
   ]
  },
  {
   "cell_type": "markdown",
   "metadata": {},
   "source": [
    "# Print the excerpts containing the word konstytucja (up to three excerpts per document) from the previous task"
   ]
  },
  {
   "cell_type": "code",
   "execution_count": 15,
   "metadata": {},
   "outputs": [
    {
     "data": {
      "text/plain": [
       "[{'_id': '1997_629.txt',\n",
       "  'highlight': {'text': ['Zasady, na których opierać się ma <em>Konstytucja</em> mogą\\n                być poddane pod referendum.']}},\n",
       " {'_id': '1999_688.txt',\n",
       "  'highlight': {'text': ['Projekt ustawy nie może dotyczyć spraw, dla których <em>Konstytucja</em>\\nRzeczypospolitej Polskiej zastrzega wyłączną']}}]"
      ]
     },
     "execution_count": 15,
     "metadata": {},
     "output_type": "execute_result"
    }
   ],
   "source": [
    "res = es.search(\n",
    "    index=ES_INDEX,\n",
    "    query={'match': {'text': \"konstytucja\"}},\n",
    "    highlight={'fields': {'text': {'number_of_fragments': 3}}},\n",
    "    filter_path=[\"hits.hits._id\", \"hits.hits.highlight\"],\n",
    "    size=10\n",
    ")\n",
    "res['hits']['hits']"
   ]
  }
 ],
 "metadata": {
  "kernelspec": {
   "display_name": "Python 3.10.4 ('ds')",
   "language": "python",
   "name": "python3"
  },
  "language_info": {
   "codemirror_mode": {
    "name": "ipython",
    "version": 3
   },
   "file_extension": ".py",
   "mimetype": "text/x-python",
   "name": "python",
   "nbconvert_exporter": "python",
   "pygments_lexer": "ipython3",
   "version": "3.10.4"
  },
  "orig_nbformat": 4,
  "vscode": {
   "interpreter": {
    "hash": "a25df13df3a09e29cbdae6ff7053faf9527e3ea6ab1de3b1c9c24b3626196969"
   }
  }
 },
 "nbformat": 4,
 "nbformat_minor": 2
}
