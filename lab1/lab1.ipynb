{
 "cells": [
  {
   "cell_type": "markdown",
   "metadata": {},
   "source": [
    "# Regular expressions"
   ]
  },
  {
   "cell_type": "code",
   "execution_count": 1,
   "metadata": {},
   "outputs": [],
   "source": [
    "import pandas as pd\n",
    "import re\n",
    "from utils import process"
   ]
  },
  {
   "cell_type": "markdown",
   "metadata": {},
   "source": [
    "## Count amendments"
   ]
  },
  {
   "cell_type": "code",
   "execution_count": 2,
   "metadata": {},
   "outputs": [],
   "source": [
    "def parse_year(document: str) -> int:\n",
    "    match = re.search(r\"u\\s?s\\s?t\\s?a\\s?w\\s?a\\s[\\w\\s]*z\\sdnia\\s\\d{1,2}\\s\\w+\\s(\\d{4})\\sr.\\s\", document, re.IGNORECASE)\n",
    "    return int(match.group(1))\n",
    "\n",
    "\n",
    "def count_additions(document: str) -> int:\n",
    "    return len(re.findall(r\"dodaj[eę]\\ssi[eę][\\s\\w\\.]+w\\sbrzmieniu:\", document))\n",
    "\n",
    "\n",
    "def count_removals(document: str) -> int:\n",
    "    return len(re.findall(r\"(?:skre[sś]la|uchyla) si[eę](?::|[\\s\\w\\.]+;)\", document))\n",
    "\n",
    "\n",
    "def count_changes(document: str) -> int:\n",
    "    return len(re.findall(r\"otrzymuje brzmienie:\", document))"
   ]
  },
  {
   "cell_type": "code",
   "execution_count": 3,
   "metadata": {},
   "outputs": [
    {
     "data": {
      "text/html": [
       "<div>\n",
       "<style scoped>\n",
       "    .dataframe tbody tr th:only-of-type {\n",
       "        vertical-align: middle;\n",
       "    }\n",
       "\n",
       "    .dataframe tbody tr th {\n",
       "        vertical-align: top;\n",
       "    }\n",
       "\n",
       "    .dataframe thead th {\n",
       "        text-align: right;\n",
       "    }\n",
       "</style>\n",
       "<table border=\"1\" class=\"dataframe\">\n",
       "  <thead>\n",
       "    <tr style=\"text-align: right;\">\n",
       "      <th></th>\n",
       "      <th>name</th>\n",
       "      <th>year</th>\n",
       "      <th>cnt_additions</th>\n",
       "      <th>cnt_removals</th>\n",
       "      <th>cnt_changes</th>\n",
       "    </tr>\n",
       "  </thead>\n",
       "  <tbody>\n",
       "    <tr>\n",
       "      <th>0</th>\n",
       "      <td>2004_1693.txt</td>\n",
       "      <td>2014</td>\n",
       "      <td>58</td>\n",
       "      <td>12</td>\n",
       "      <td>86</td>\n",
       "    </tr>\n",
       "    <tr>\n",
       "      <th>1</th>\n",
       "      <td>2004_2426.txt</td>\n",
       "      <td>2004</td>\n",
       "      <td>1</td>\n",
       "      <td>1</td>\n",
       "      <td>4</td>\n",
       "    </tr>\n",
       "    <tr>\n",
       "      <th>2</th>\n",
       "      <td>2003_1511.txt</td>\n",
       "      <td>2009</td>\n",
       "      <td>3</td>\n",
       "      <td>0</td>\n",
       "      <td>1</td>\n",
       "    </tr>\n",
       "    <tr>\n",
       "      <th>3</th>\n",
       "      <td>2000_1189.txt</td>\n",
       "      <td>2000</td>\n",
       "      <td>1</td>\n",
       "      <td>0</td>\n",
       "      <td>2</td>\n",
       "    </tr>\n",
       "    <tr>\n",
       "      <th>4</th>\n",
       "      <td>2000_1010.txt</td>\n",
       "      <td>1998</td>\n",
       "      <td>1</td>\n",
       "      <td>0</td>\n",
       "      <td>0</td>\n",
       "    </tr>\n",
       "  </tbody>\n",
       "</table>\n",
       "</div>"
      ],
      "text/plain": [
       "            name  year  cnt_additions  cnt_removals  cnt_changes\n",
       "0  2004_1693.txt  2014             58            12           86\n",
       "1  2004_2426.txt  2004              1             1            4\n",
       "2  2003_1511.txt  2009              3             0            1\n",
       "3  2000_1189.txt  2000              1             0            2\n",
       "4  2000_1010.txt  1998              1             0            0"
      ]
     },
     "execution_count": 3,
     "metadata": {},
     "output_type": "execute_result"
    }
   ],
   "source": [
    "df = process(parse_year,\n",
    "             count_additions,\n",
    "             count_removals,\n",
    "             count_changes)\n",
    "df.columns = [\"name\", \"year\", \"cnt_additions\", \"cnt_removals\", \"cnt_changes\"]\n",
    "df.head()"
   ]
  },
  {
   "cell_type": "code",
   "execution_count": 4,
   "metadata": {},
   "outputs": [
    {
     "data": {
      "text/html": [
       "<div>\n",
       "<style scoped>\n",
       "    .dataframe tbody tr th:only-of-type {\n",
       "        vertical-align: middle;\n",
       "    }\n",
       "\n",
       "    .dataframe tbody tr th {\n",
       "        vertical-align: top;\n",
       "    }\n",
       "\n",
       "    .dataframe thead th {\n",
       "        text-align: right;\n",
       "    }\n",
       "</style>\n",
       "<table border=\"1\" class=\"dataframe\">\n",
       "  <thead>\n",
       "    <tr style=\"text-align: right;\">\n",
       "      <th></th>\n",
       "      <th>cnt_additions</th>\n",
       "      <th>cnt_removals</th>\n",
       "      <th>cnt_changes</th>\n",
       "      <th>cnt_total</th>\n",
       "      <th>perc_additions</th>\n",
       "      <th>perc_removals</th>\n",
       "      <th>perc_changes</th>\n",
       "    </tr>\n",
       "    <tr>\n",
       "      <th>year</th>\n",
       "      <th></th>\n",
       "      <th></th>\n",
       "      <th></th>\n",
       "      <th></th>\n",
       "      <th></th>\n",
       "      <th></th>\n",
       "      <th></th>\n",
       "    </tr>\n",
       "  </thead>\n",
       "  <tbody>\n",
       "    <tr>\n",
       "      <th>1993</th>\n",
       "      <td>34</td>\n",
       "      <td>3</td>\n",
       "      <td>64</td>\n",
       "      <td>101</td>\n",
       "      <td>33.663366</td>\n",
       "      <td>2.970297</td>\n",
       "      <td>63.366337</td>\n",
       "    </tr>\n",
       "    <tr>\n",
       "      <th>1994</th>\n",
       "      <td>79</td>\n",
       "      <td>21</td>\n",
       "      <td>77</td>\n",
       "      <td>177</td>\n",
       "      <td>44.632768</td>\n",
       "      <td>11.864407</td>\n",
       "      <td>43.502825</td>\n",
       "    </tr>\n",
       "    <tr>\n",
       "      <th>1995</th>\n",
       "      <td>252</td>\n",
       "      <td>54</td>\n",
       "      <td>351</td>\n",
       "      <td>657</td>\n",
       "      <td>38.356164</td>\n",
       "      <td>8.219178</td>\n",
       "      <td>53.424658</td>\n",
       "    </tr>\n",
       "    <tr>\n",
       "      <th>1996</th>\n",
       "      <td>214</td>\n",
       "      <td>82</td>\n",
       "      <td>501</td>\n",
       "      <td>797</td>\n",
       "      <td>26.850690</td>\n",
       "      <td>10.288582</td>\n",
       "      <td>62.860728</td>\n",
       "    </tr>\n",
       "    <tr>\n",
       "      <th>1997</th>\n",
       "      <td>380</td>\n",
       "      <td>96</td>\n",
       "      <td>690</td>\n",
       "      <td>1166</td>\n",
       "      <td>32.590051</td>\n",
       "      <td>8.233276</td>\n",
       "      <td>59.176672</td>\n",
       "    </tr>\n",
       "  </tbody>\n",
       "</table>\n",
       "</div>"
      ],
      "text/plain": [
       "      cnt_additions  cnt_removals  cnt_changes  cnt_total  perc_additions  \\\n",
       "year                                                                        \n",
       "1993             34             3           64        101       33.663366   \n",
       "1994             79            21           77        177       44.632768   \n",
       "1995            252            54          351        657       38.356164   \n",
       "1996            214            82          501        797       26.850690   \n",
       "1997            380            96          690       1166       32.590051   \n",
       "\n",
       "      perc_removals  perc_changes  \n",
       "year                               \n",
       "1993       2.970297     63.366337  \n",
       "1994      11.864407     43.502825  \n",
       "1995       8.219178     53.424658  \n",
       "1996      10.288582     62.860728  \n",
       "1997       8.233276     59.176672  "
      ]
     },
     "execution_count": 4,
     "metadata": {},
     "output_type": "execute_result"
    }
   ],
   "source": [
    "df_yearly = df.groupby('year')[['cnt_additions', 'cnt_removals', 'cnt_changes']].sum()\n",
    "df_yearly['cnt_total'] = df_yearly.sum(axis=1)\n",
    "df_yearly['perc_additions'] = df_yearly['cnt_additions'] / df_yearly['cnt_total'] * 100\n",
    "df_yearly['perc_removals'] = df_yearly['cnt_removals'] / df_yearly['cnt_total'] * 100\n",
    "df_yearly['perc_changes'] = df_yearly['cnt_changes'] / df_yearly['cnt_total'] * 100\n",
    "df_yearly.head()"
   ]
  },
  {
   "cell_type": "code",
   "execution_count": 5,
   "metadata": {},
   "outputs": [
    {
     "data": {
      "image/png": "[encoded data removed]",
      "text/plain": [
       "<Figure size 432x288 with 1 Axes>"
      ]
     },
     "metadata": {
      "needs_background": "light"
     },
     "output_type": "display_data"
    }
   ],
   "source": [
    "ax = df_yearly[['perc_additions', 'perc_removals', 'perc_changes']].plot.bar(stacked=True)\n",
    "ax.set_ylabel(\"Percentage [%]\")\n",
    "ax.legend([\"Additions\", \"Removals\", \"Changes\"])\n",
    "ax.set_title(\"Amendments percentage over years\");"
   ]
  },
  {
   "cell_type": "markdown",
   "metadata": {},
   "source": [
    "## Count \"ustawa\""
   ]
  },
  {
   "cell_type": "code",
   "execution_count": 6,
   "metadata": {},
   "outputs": [],
   "source": [
    "def count_word(document: str) -> int:\n",
    "    return len(re.findall(r\"\\bustaw([aąeęoy]|(ami)|(ie)|(ach))?\\b\", document, re.IGNORECASE))\n",
    "\n",
    "def count_word_with_suffix(document: str) -> int:\n",
    "    return len(re.findall(r\"\\bustaw([aąeęoy]|(ami)|(ie)|(ach))?\\b\\sz\\sdnia\\b\", document, re.IGNORECASE))\n",
    "\n",
    "def count_word_without_suffix(document: str) -> int:\n",
    "    return len(re.findall(r\"\\bustaw([aąeęoy]|(ami)|(ie)|(ach))?\\b(?!\\sz\\sdnia\\b)\", document, re.IGNORECASE))"
   ]
  },
  {
   "cell_type": "code",
   "execution_count": 7,
   "metadata": {},
   "outputs": [
    {
     "data": {
      "text/html": [
       "<div>\n",
       "<style scoped>\n",
       "    .dataframe tbody tr th:only-of-type {\n",
       "        vertical-align: middle;\n",
       "    }\n",
       "\n",
       "    .dataframe tbody tr th {\n",
       "        vertical-align: top;\n",
       "    }\n",
       "\n",
       "    .dataframe thead th {\n",
       "        text-align: right;\n",
       "    }\n",
       "</style>\n",
       "<table border=\"1\" class=\"dataframe\">\n",
       "  <thead>\n",
       "    <tr style=\"text-align: right;\">\n",
       "      <th></th>\n",
       "      <th>name</th>\n",
       "      <th>cnt</th>\n",
       "      <th>cnt_with_suffix</th>\n",
       "      <th>cnt_without_suffix</th>\n",
       "    </tr>\n",
       "  </thead>\n",
       "  <tbody>\n",
       "    <tr>\n",
       "      <th>0</th>\n",
       "      <td>2004_1693.txt</td>\n",
       "      <td>268</td>\n",
       "      <td>96</td>\n",
       "      <td>172</td>\n",
       "    </tr>\n",
       "    <tr>\n",
       "      <th>1</th>\n",
       "      <td>2004_2426.txt</td>\n",
       "      <td>15</td>\n",
       "      <td>2</td>\n",
       "      <td>13</td>\n",
       "    </tr>\n",
       "    <tr>\n",
       "      <th>2</th>\n",
       "      <td>2003_1511.txt</td>\n",
       "      <td>8</td>\n",
       "      <td>3</td>\n",
       "      <td>5</td>\n",
       "    </tr>\n",
       "    <tr>\n",
       "      <th>3</th>\n",
       "      <td>2000_1189.txt</td>\n",
       "      <td>4</td>\n",
       "      <td>2</td>\n",
       "      <td>2</td>\n",
       "    </tr>\n",
       "    <tr>\n",
       "      <th>4</th>\n",
       "      <td>2000_1010.txt</td>\n",
       "      <td>5</td>\n",
       "      <td>2</td>\n",
       "      <td>3</td>\n",
       "    </tr>\n",
       "  </tbody>\n",
       "</table>\n",
       "</div>"
      ],
      "text/plain": [
       "            name  cnt  cnt_with_suffix  cnt_without_suffix\n",
       "0  2004_1693.txt  268               96                 172\n",
       "1  2004_2426.txt   15                2                  13\n",
       "2  2003_1511.txt    8                3                   5\n",
       "3  2000_1189.txt    4                2                   2\n",
       "4  2000_1010.txt    5                2                   3"
      ]
     },
     "execution_count": 7,
     "metadata": {},
     "output_type": "execute_result"
    }
   ],
   "source": [
    "df_word = process(count_word, count_word_with_suffix, count_word_without_suffix)\n",
    "df_word.columns = [\"name\",\"cnt\", \"cnt_with_suffix\", \"cnt_without_suffix\"]\n",
    "df_word.head()"
   ]
  },
  {
   "cell_type": "code",
   "execution_count": 8,
   "metadata": {},
   "outputs": [],
   "source": [
    "assert (df_word['cnt_with_suffix'] + df_word['cnt_without_suffix'] == df_word['cnt']).all()"
   ]
  },
  {
   "cell_type": "code",
   "execution_count": 9,
   "metadata": {},
   "outputs": [],
   "source": [
    "def count_word_without_suffix_2(document: str) -> int:\n",
    "    return len(re.findall(r\"\\bustaw([aąeęoy]|(ami)|(ie)|(ach))?\\b(?!\\so\\szmianie\\b)\", document, re.IGNORECASE))"
   ]
  },
  {
   "cell_type": "code",
   "execution_count": 10,
   "metadata": {},
   "outputs": [
    {
     "data": {
      "text/html": [
       "<div>\n",
       "<style scoped>\n",
       "    .dataframe tbody tr th:only-of-type {\n",
       "        vertical-align: middle;\n",
       "    }\n",
       "\n",
       "    .dataframe tbody tr th {\n",
       "        vertical-align: top;\n",
       "    }\n",
       "\n",
       "    .dataframe thead th {\n",
       "        text-align: right;\n",
       "    }\n",
       "</style>\n",
       "<table border=\"1\" class=\"dataframe\">\n",
       "  <thead>\n",
       "    <tr style=\"text-align: right;\">\n",
       "      <th></th>\n",
       "      <th>name</th>\n",
       "      <th>cnt_without_suffix_2</th>\n",
       "    </tr>\n",
       "  </thead>\n",
       "  <tbody>\n",
       "    <tr>\n",
       "      <th>0</th>\n",
       "      <td>2004_1693.txt</td>\n",
       "      <td>268</td>\n",
       "    </tr>\n",
       "    <tr>\n",
       "      <th>1</th>\n",
       "      <td>2004_2426.txt</td>\n",
       "      <td>15</td>\n",
       "    </tr>\n",
       "    <tr>\n",
       "      <th>2</th>\n",
       "      <td>2003_1511.txt</td>\n",
       "      <td>8</td>\n",
       "    </tr>\n",
       "    <tr>\n",
       "      <th>3</th>\n",
       "      <td>2000_1189.txt</td>\n",
       "      <td>4</td>\n",
       "    </tr>\n",
       "    <tr>\n",
       "      <th>4</th>\n",
       "      <td>2000_1010.txt</td>\n",
       "      <td>5</td>\n",
       "    </tr>\n",
       "  </tbody>\n",
       "</table>\n",
       "</div>"
      ],
      "text/plain": [
       "            name  cnt_without_suffix_2\n",
       "0  2004_1693.txt                   268\n",
       "1  2004_2426.txt                    15\n",
       "2  2003_1511.txt                     8\n",
       "3  2000_1189.txt                     4\n",
       "4  2000_1010.txt                     5"
      ]
     },
     "execution_count": 10,
     "metadata": {},
     "output_type": "execute_result"
    }
   ],
   "source": [
    "df_word_without_suffix = process(count_word_without_suffix_2)\n",
    "df_word_without_suffix.columns = [\"name\", \"cnt_without_suffix_2\"]\n",
    "df_word_without_suffix.head()"
   ]
  },
  {
   "cell_type": "code",
   "execution_count": 11,
   "metadata": {},
   "outputs": [
    {
     "data": {
      "image/png": "[encoded data removed]",
      "text/plain": [
       "<Figure size 432x288 with 1 Axes>"
      ]
     },
     "metadata": {
      "needs_background": "light"
     },
     "output_type": "display_data"
    }
   ],
   "source": [
    "df_plot = pd.concat([df_word, df_word_without_suffix], axis=1)\n",
    "ax = df_plot.loc[:10, [\"cnt\", \"cnt_with_suffix\", \"cnt_without_suffix\", \"cnt_without_suffix_2\"]].plot.bar()\n",
    "ax.set_xticks([])\n",
    "ax.set_xlabel(\"Documents\")\n",
    "ax.set_ylabel(\"Count\")\n",
    "ax.legend([\"Word\", 'Word with \"z dnia\" suffix', 'Word without \"z dnia\" suffix', 'Word without \"o zmianie\" suffix'])\n",
    "ax.set_title('Word \"ustawa\" count');"
   ]
  }
 ],
 "metadata": {
  "kernelspec": {
   "display_name": "Python 3.10.4 ('ds')",
   "language": "python",
   "name": "python3"
  },
  "language_info": {
   "codemirror_mode": {
    "name": "ipython",
    "version": 3
   },
   "file_extension": ".py",
   "mimetype": "text/x-python",
   "name": "python",
   "nbconvert_exporter": "python",
   "pygments_lexer": "ipython3",
   "version": "3.10.4"
  },
  "orig_nbformat": 4,
  "vscode": {
   "interpreter": {
    "hash": "a25df13df3a09e29cbdae6ff7053faf9527e3ea6ab1de3b1c9c24b3626196969"
   }
  }
 },
 "nbformat": 4,
 "nbformat_minor": 2
}
